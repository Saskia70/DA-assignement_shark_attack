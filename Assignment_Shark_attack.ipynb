{
  "nbformat": 4,
  "nbformat_minor": 0,
  "metadata": {
    "colab": {
      "provenance": [],
      "collapsed_sections": []
    },
    "kernelspec": {
      "name": "python3",
      "display_name": "Python 3"
    },
    "language_info": {
      "name": "python"
    }
  },
  "cells": [
    {
      "cell_type": "code",
      "execution_count": 1,
      "metadata": {
        "id": "yqI6pOEOd6G8"
      },
      "outputs": [],
      "source": [
        "import pandas as pd\n",
        "import numpy as np\n",
        "import matplotlib.pyplot as plt\n",
        "\n",
        "\n",
        "df= pd.read_csv(r'https://github.com/Saskia70/shark_csv/blob/main/attacks.csv?raw=true', encoding = 'latin-1')"
      ]
    },
    {
      "cell_type": "code",
      "source": [
        "#A.what are the most dangerous types of sharks to humans?\n",
        "#B.are children more likely to be attacked by sharks?\n",
        "#C.are shark attacks where sharks were provoked more or less dangerous?\n",
        "#D.are certain activities more likely to result in a shark attack?\n",
        "df1 = df.drop(['Date','Year', 'Case Number', 'Country', 'Area', 'Location', 'Name', 'pdf', 'Time', 'Investigator or Source', 'href formula', 'href', 'Case Number.1', 'Case Number.2', 'original order', 'Unnamed: 22', 'Unnamed: 23'], axis=1)\n",
        "df1.columns= ('Type', 'Activity', 'Sex', 'Age', 'Injury', 'Fatal', 'Species')"
      ],
      "metadata": {
        "id": "pdRJhhFrFjT7"
      },
      "execution_count": 2,
      "outputs": []
    },
    {
      "cell_type": "code",
      "source": [
        "#A.1.OPSCHONEN KOLOM FATAL:\n",
        "dfA1 = df1.copy()\n",
        "dfA1.loc[df1['Fatal'] == \"UNKNOWN\", 'Fatal'] = np.nan\n",
        "dfA1.loc[dfA1['Fatal'] == \"2017\", 'Fatal'] = np.nan\n",
        "dfA1['Fatal'] = dfA1['Fatal'].replace({' N': 'N'})\n",
        "dfA1['Fatal'] = dfA1['Fatal'].replace({'N ': 'N'})\n",
        "dfA1['Fatal'] = dfA1['Fatal'].replace({'y': 'Y'})\n",
        "\n",
        "#df1['Fatal'].value_counts()\n",
        "#df1['Fatal'].isnull().sum()"
      ],
      "metadata": {
        "id": "b2Rp0-F0Mc3a"
      },
      "execution_count": 3,
      "outputs": []
    },
    {
      "cell_type": "code",
      "source": [
        "#A.2.OPSCHONEN KOLOM 'Species':\n",
        "#df1 = df1.loc[df1['Species'] == \" \", 'Species'] = np.nan\n",
        "dfA1['Species'] = dfA1['Species'].replace({' ': None})"
      ],
      "metadata": {
        "id": "l9ZdYSOqRt4c"
      },
      "execution_count": 4,
      "outputs": []
    },
    {
      "cell_type": "code",
      "source": [
        "#A.3.DROPPEN NULLVALUES FATAL EN SPECIES:\n",
        "dfA2 = dfA1.dropna(how = 'all')\n",
        "dfA3 = dfA2.dropna(subset =['Fatal', 'Species'])"
      ],
      "metadata": {
        "id": "kpCO3J78W5kl"
      },
      "execution_count": 5,
      "outputs": []
    },
    {
      "cell_type": "code",
      "source": [
        "#A.4.MAKEN VAN DF MET ALLEEN FATALE AFLOOP (Y):\n",
        "dfA4 = dfA3.loc[(dfA3.Fatal=='Y')]"
      ],
      "metadata": {
        "id": "EGtb4hdTqTcf"
      },
      "execution_count": 6,
      "outputs": []
    },
    {
      "cell_type": "code",
      "source": [
        "#A.5.HERNOEMEN EN GROEPEREN MEEST VOORKOMENDE HAAISOORTEN\n",
        "from pandas.core.reshape.merge import string\n",
        "dfA4 = dfA3.copy()\n",
        "\n",
        "dfA4['Species'] = dfA4['Species'].str.lower()\n",
        "\n",
        "dfA4['Species'] = dfA4.Species.str.replace('\"' , '')\n",
        "\n",
        "white_shark = dfA4['Species'].str.contains('white')\n",
        "tiger_shark = dfA4['Species'].str.contains('tiger')\n",
        "bull_shark = dfA4['Species'].str.contains('bull')\n",
        "dog_shark = dfA4['Species'].str.contains(\"dog'\")\n",
        "lemon_shark = dfA4['Species'].str.contains(\"lemon\")\n",
        "nurse_shark = dfA4['Species'].str.contains(\"nurse\")\n",
        "blue_pointer = dfA4['Species'].str.contains(\"pointer\")\n",
        "three_inch_shark = dfA4['Species'].str.contains(\"3'\")\n",
        "four_inch_shark = dfA4['Species'].str.contains(\"4'\")\n",
        "five_inch_shark = dfA4['Species'].str.contains(\"5'\")\n",
        "six_inch_shark = dfA4['Species'].str.contains(\"6'\")\n",
        "not_involved = dfA4['Species'].str.contains('involved')\n",
        "\n",
        "dfA4['Species']= np.where(white_shark, 'white shark', dfA4['Species'])\n",
        "dfA4['Species']= np.where(tiger_shark, 'tiger shark', dfA4['Species'])\n",
        "dfA4['Species']= np.where(bull_shark, 'bull shark', dfA4['Species'])\n",
        "dfA4['Species']= np.where(dog_shark, \"dog shark\", dfA4['Species'])\n",
        "dfA4['Species']= np.where(lemon_shark, \"lemon shark\", dfA4['Species'])\n",
        "dfA4['Species']= np.where(nurse_shark, \"nurse shark\", dfA4['Species'])\n",
        "dfA4['Species']= np.where(blue_pointer, \"blue pointer\", dfA4['Species'])\n",
        "dfA4['Species']= np.where(three_inch_shark, \"3' shark\", dfA4['Species'])\n",
        "dfA4['Species']= np.where(four_inch_shark, \"4' shark\", dfA4['Species'])\n",
        "dfA4['Species']= np.where(five_inch_shark, \"5' shark\", dfA4['Species'])\n",
        "dfA4['Species']= np.where(six_inch_shark, \"6' shark\", dfA4['Species'])\n",
        "dfA4['Species']= np.where(not_involved, 'shark not involved', dfA4['Species'])\n"
      ],
      "metadata": {
        "id": "_NRvIK_2TXEi"
      },
      "execution_count": 7,
      "outputs": []
    },
    {
      "cell_type": "code",
      "source": [
        "#A.6.MAKEN VAN LAATSTE DF TOP 10 FATAL ATTACKS\n",
        "dfA5 = dfA4.drop(['Type', 'Activity', 'Sex', 'Age', 'Injury'], axis=1)\n",
        "dfA5 = dfA5.loc[(dfA5.Fatal=='Y')]\n",
        "dfA6 = dfA5['Species'].value_counts().head(10)"
      ],
      "metadata": {
        "id": "pV3IeAk6sxGo"
      },
      "execution_count": 8,
      "outputs": []
    },
    {
      "cell_type": "code",
      "source": [
        "#A.7.ANSWER QUESTION 1:\n",
        "#White sharks, tiger sharks and bull sharks seem to be the most dangerous species according to this data.\n",
        "#Since 'inch-sharks' are not a specific species. It could be that among the 'inch_sharks' there are species that are not as familiar as\n",
        "#the white, tiger or bull sharks, but as fatal. \n",
        "\n",
        "dfA6.plot.bar()\n",
        "\n",
        "plt.xlabel('Species')\n",
        "plt.ylabel('Fatal attacks')\n",
        "plt.title('Fatal shark attacks')\n",
        "\n",
        "plt.show()"
      ],
      "metadata": {
        "colab": {
          "base_uri": "https://localhost:8080/",
          "height": 378
        },
        "id": "zACyOxPQKh1d",
        "outputId": "034bca1d-be07-4ac7-f100-d4aa87a3942c"
      },
      "execution_count": 9,
      "outputs": [
        {
          "output_type": "display_data",
          "data": {
            "text/plain": [
              "<Figure size 432x288 with 1 Axes>"
            ],
            "image/png": "[encoded data removed]"
          },
          "metadata": {
            "needs_background": "light"
          }
        }
      ]
    },
    {
      "cell_type": "code",
      "source": [
        "#B.1.OPSCHONEN KOLOM 'AGE' (AND 'SPECIES')\n",
        "dfB1= df1.copy()\n",
        "dfB1['Age'] = dfB1['Age'].replace({' ': None})\n",
        "dfB1['Age'] = pd.to_numeric(dfB1['Age'], errors='coerce')\n",
        "dfB1['Species'] = dfB1.Species.replace('no shark involved', None)"
      ],
      "metadata": {
        "id": "YMWNwuS9P0mG"
      },
      "execution_count": 10,
      "outputs": []
    },
    {
      "cell_type": "code",
      "source": [
        "#B.2.VOORBEREIDEN DATAFRAME OP PLOT\n",
        "dfB1['Adult_child'] = (dfB1.loc[: , 'Age'] <18)\n",
        "dfB1['Adult_child'] = dfB1['Adult_child'].replace({False: 'Adult', True: 'Child'})\n",
        "dfB2 = dfB1.dropna()"
      ],
      "metadata": {
        "id": "4RG4hOTlPxHz"
      },
      "execution_count": 11,
      "outputs": []
    },
    {
      "cell_type": "code",
      "source": [
        "#B.3.ANSWER QUESTION 2:\n",
        "#Less children are attacked, compared to adults. \n",
        "#It could also be that less children join certain activities that led more to shark attacks.\n",
        "#To be able to see if children are more likely to be attacked, you should compare the percentage of children that\n",
        "#join the activities that lead to attacks. \n",
        "#So the conclusion that children are more attacked because they are children can't be made based on this plot.\n",
        "dfB2['Adult_child'].value_counts().plot(kind='bar')\n",
        "\n",
        "plt.xlabel('Age Groups')\n",
        "plt.ylabel('Attachs')\n",
        "plt.title('Shark attacks adult versus child')\n",
        "plt.show()"
      ],
      "metadata": {
        "colab": {
          "base_uri": "https://localhost:8080/",
          "height": 312
        },
        "id": "ATuINypsJO5N",
        "outputId": "3f6e1aa5-81f4-4de6-d8a3-34727d7ea1d2"
      },
      "execution_count": 13,
      "outputs": [
        {
          "output_type": "display_data",
          "data": {
            "text/plain": [
              "<Figure size 432x288 with 1 Axes>"
            ],
            "image/png": "[encoded data removed]"
          },
          "metadata": {
            "needs_background": "light"
          }
        }
      ]
    },
    {
      "cell_type": "code",
      "source": [
        "#C.1.OPSCHONEN KOLOM TYPE:\n",
        "dfC1 = df1.copy()\n",
        "\n",
        "#dfC['Type'].unique()\n",
        "#dfC['Type'].value_counts()"
      ],
      "metadata": {
        "id": "ngksx_ZzO3R-"
      },
      "execution_count": 14,
      "outputs": []
    },
    {
      "cell_type": "code",
      "source": [
        "#C.2.OPMAKEN DATAFRAME PROVOKED/FATAL.\n",
        "dfC2 = dfC1.loc[(dfC1.Type=='Provoked')]\n",
        "dfC3 = dfC2.set_index('Type')\n",
        "dfC4 = dfC3.drop(['Activity', 'Sex', 'Age', 'Injury', 'Species'], axis=1)"
      ],
      "metadata": {
        "id": "CVgDaWVQFAJQ"
      },
      "execution_count": 15,
      "outputs": []
    },
    {
      "cell_type": "code",
      "source": [
        "#C.3.ANSWER TO QUESTION 3\n",
        "#Provoking sharks does not at all contribute to more fatal attacks.\n",
        "\n",
        "dfC4['Fatal'].value_counts().plot(kind='bar')\n",
        "\n",
        "plt.xlabel('Fatal')\n",
        "plt.ylabel('number attacks')\n",
        "plt.title('Fatal provoked shark attacks')\n",
        "plt.show()"
      ],
      "metadata": {
        "colab": {
          "base_uri": "https://localhost:8080/",
          "height": 339
        },
        "id": "AyQYbNTpRdrb",
        "outputId": "e287b372-68d4-4182-d5ab-f4e9e962d6a0"
      },
      "execution_count": 18,
      "outputs": [
        {
          "output_type": "display_data",
          "data": {
            "text/plain": [
              "<Figure size 432x288 with 1 Axes>"
            ],
            "image/png": "[encoded data removed]"
          },
          "metadata": {
            "needs_background": "light"
          }
        }
      ]
    },
    {
      "cell_type": "code",
      "source": [
        "#D.1.OPSCHONEN KOLOM TYPE & ACTIVITY\n",
        "from pandas.core.reshape.merge import string\n",
        "dfD1=df1.copy()\n",
        "dfD1['Type']= dfD1['Type'].replace({'Boating':'Boat', 'Boatomg':'Boat'})\n",
        "dfD1['Activity']= dfD1['Activity'].replace({' ': None, '.': None})\n",
        "dfD2=dfD1.dropna()"
      ],
      "metadata": {
        "id": "XXnMULO5ZJeU"
      },
      "execution_count": 19,
      "outputs": []
    },
    {
      "cell_type": "code",
      "source": [
        "#D.2.ZOVEEL MOGELIJK HERGROEPEREN/HERNOEMEN VERSCHILLENDE BESCHRIJVINGEN\n",
        "dfD3=dfD2.copy()\n",
        "dfD3['Activity'] = dfD3['Activity'].str.lower()\n",
        "\n",
        "Swimming = dfD3['Activity'].str.contains('swimming')\n",
        "Spearfishing = dfD3['Activity'].str.contains('spear')\n",
        "Fishing = dfD3['Activity'].str.contains('fishing')\n",
        "Diving = dfD3['Activity'].str.contains('diving')\n",
        "Surfing = dfD3['Activity'].str.contains('surfing')\n",
        "Windsurfing = dfD3['Activity'].str.contains('wind')\n",
        "\n",
        "dfD3['Activity']= np.where(Swimming, 'swimming', np.where(Fishing, 'fishing', np.where(Spearfishing,'spearfishing', np.where(Diving, 'diving', \n",
        "                  np.where(Surfing, 'surfing', np.where(Windsurfing, 'windsurfing', dfD3['Activity']))))))\n",
        "\n",
        "dfD4 = dfD3['Activity'].value_counts()\n",
        "dfD5 = dfD4.head(10)\n"
      ],
      "metadata": {
        "id": "0UHC1_yQO6cq"
      },
      "execution_count": 20,
      "outputs": []
    },
    {
      "cell_type": "code",
      "source": [
        "#D.3.ANSWER QUESTION 4\n",
        "#Yes, certain activities, especially surfing, are more likely to result in shark attacks.\n",
        "\n",
        "dfD5.plot(kind='bar')\n",
        "\n",
        "plt.xlabel('Activity')\n",
        "plt.ylabel('Number')\n",
        "plt.title('Number of activities that led to shark  attacks')\n",
        "\n",
        "plt.show()"
      ],
      "metadata": {
        "colab": {
          "base_uri": "https://localhost:8080/",
          "height": 366
        },
        "id": "gWaanhZycP1y",
        "outputId": "7d5b4a90-1094-4ea7-d2d4-96a5dcf24b63"
      },
      "execution_count": 21,
      "outputs": [
        {
          "output_type": "display_data",
          "data": {
            "text/plain": [
              "<Figure size 432x288 with 1 Axes>"
            ],
            "image/png": "[encoded data removed]"
          },
          "metadata": {
            "needs_background": "light"
          }
        }
      ]
    }
  ]
}